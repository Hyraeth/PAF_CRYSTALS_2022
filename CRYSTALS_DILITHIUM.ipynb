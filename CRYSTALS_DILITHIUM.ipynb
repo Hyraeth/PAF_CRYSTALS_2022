{
  "nbformat": 4,
  "nbformat_minor": 0,
  "metadata": {
    "colab": {
      "provenance": []
    },
    "kernelspec": {
      "name": "python3",
      "display_name": "Python 3"
    },
    "language_info": {
      "name": "python"
    }
  },
  "cells": [
    {
      "cell_type": "markdown",
      "source": [
        "#CONSTANTES"
      ],
      "metadata": {
        "id": "fhISlMCnMc1B"
      }
    },
    {
      "cell_type": "code",
      "source": [
        "import numpy as np\n",
        "import numpy.random as npr\n",
        "import hashlib as hl\n",
        "import random\n",
        "\n",
        "n = 256\n",
        "q = (2**23)-(2**13)+1\n",
        "eta = 4\n",
        "k = 6\n",
        "l = 5\n",
        "d = 13\n",
        "tau = 49\n",
        "gamma1 = 2**19\n",
        "gamma2 = (q-1)//32\n",
        "beta = 196\n",
        "omega = 55"
      ],
      "metadata": {
        "id": "BnZKB64WMcRe"
      },
      "execution_count": null,
      "outputs": []
    },
    {
      "cell_type": "markdown",
      "source": [
        "#Fonctions aux"
      ],
      "metadata": {
        "id": "bL9URZ0naVhE"
      }
    },
    {
      "cell_type": "markdown",
      "source": [
        "Basique"
      ],
      "metadata": {
        "id": "SNpiR8qod10C"
      }
    },
    {
      "cell_type": "code",
      "source": [
        "#pour mod +-\n",
        "def modular_reduction_even(r,a):\n",
        "    r1 = r%a\n",
        "    if(r1 <= a//2 and r1 > -a//2) :\n",
        "      return r1\n",
        "    if(r1>0) :\n",
        "      r1 = r1 - a\n",
        "    else :\n",
        "      r1 = r1 + a\n",
        "    return r1\n",
        "\n",
        "def modular_reduction_odd(r,a):\n",
        "    r1 = r%a\n",
        "    if(r1 <= (a-1)//2 and r1 >= -(a-1)//2) :\n",
        "      return r1\n",
        "    if(r1>0) :\n",
        "      r1 = r1 - a\n",
        "    else :\n",
        "      r1 = r1 + a\n",
        "    return r1\n",
        "\n",
        "def modular_reduction_plus(r,a):\n",
        "  r1 = r%a\n",
        "  if(r1<0) :\n",
        "    r1 = r1 + a\n",
        "  return r1\n",
        "\n",
        "#calcule la norme inf d'un polynome de Rq\n",
        "def NormeInfPoly(P,q=q):\n",
        "  maxi = 0\n",
        "  if(q%2 == 0):\n",
        "    for w in P:\n",
        "      maxi = max(maxi,abs(modular_reduction_even(w,q)))\n",
        "  else :\n",
        "    for w in P:\n",
        "      maxi = max(maxi,abs(modular_reduction_odd(w,q)))\n",
        "  return maxi\n",
        "\n",
        "def NormeInfVecRq(vec, q=q):\n",
        "  maxi = 0\n",
        "  l = len(vec)\n",
        "  for i in range(l):\n",
        "    maxi = max(maxi,NormeInfPoly(vec[i],q))\n",
        "  return maxi\n",
        "\n",
        "def Power2Round(r,d=d,q=q):\n",
        "  h = modular_reduction_plus(r,q)\n",
        "  r0 = modular_reduction_even(r,2**d)\n",
        "  s = (h-r0)//(2**d)\n",
        "  return s,r0\n",
        "\n",
        "def Decompose(r,a,q=q):\n",
        "  h = modular_reduction_plus(r,q)\n",
        "  if(a%2==0): r0 = modular_reduction_even(r,a)\n",
        "  else : r0 = modular_reduction_odd(r,a)\n",
        "  if (h-r0 == q-1) :\n",
        "    r1 = 0\n",
        "    r0 = r0-1\n",
        "  else :\n",
        "    r1 = (h-r0)//a\n",
        "  return r1,r0\n",
        "\n",
        "def HighBits(r,a,q=q):\n",
        "  (r1,r0) = Decompose(r,a,q)\n",
        "  return r1\n",
        "\n",
        "def LowBits(r,a,q=q):\n",
        "  (r1,r0) = Decompose(r,a,q)\n",
        "  return r0\n",
        "\n",
        "def MakeHint(z,r,a,q=q):\n",
        "  r1 = HighBits(z,a,q)\n",
        "  v1 = HighBits(r,a,q)\n",
        "  return (r1 != v1)\n",
        "\n",
        "def UseHint(h,r,a,q=q):\n",
        "  m = (q-1)//a\n",
        "  (r1,r0) = Decompose(r,a,q)\n",
        "  if (h == 1 and r0 > 0) :\n",
        "    return modular_reduction_plus(r1+1,m)\n",
        "  if (h == 1 and r0 <= 0) :\n",
        "    return modular_reduction_plus(r1-1,m)\n",
        "  return r1\n",
        "\n",
        "def BinToHex(b):\n",
        "  if np.array_equal(b,np.array([0,0,0,0])):\n",
        "    return '0'\n",
        "  elif  np.array_equal(b,np.array([1,0,0,0])):\n",
        "    return '1'\n",
        "  elif  np.array_equal(b,np.array([0,1,0,0])):\n",
        "    return '2'\n",
        "  elif  np.array_equal(b,np.array([1,1,0,0])):\n",
        "    return '3'\n",
        "  elif  np.array_equal(b,np.array([0,0,1,0])):\n",
        "    return '4'\n",
        "  elif  np.array_equal(b,np.array([1,0,1,0])):\n",
        "    return '5'\n",
        "  elif  np.array_equal(b,np.array([0,1,1,0])):\n",
        "    return '6'\n",
        "  elif  np.array_equal(b,np.array([1,1,1,0])):\n",
        "    return '7'\n",
        "  elif  np.array_equal(b,np.array([0,0,0,1])):\n",
        "    return '8'\n",
        "  elif  np.array_equal(b,np.array([1,0,0,1])):\n",
        "    return '9'\n",
        "  elif  np.array_equal(b,np.array([0,1,0,1])):\n",
        "    return 'a'\n",
        "  elif  np.array_equal(b,np.array([1,1,0,1])):\n",
        "    return 'b'\n",
        "  elif  np.array_equal(b,np.array([0,0,1,1])):\n",
        "    return 'c'\n",
        "  elif  np.array_equal(b,np.array([1,0,1,1])):\n",
        "    return 'd'\n",
        "  elif  np.array_equal(b,np.array([0,1,1,1])):\n",
        "    return 'e'\n",
        "  elif  np.array_equal(b,np.array([1,1,1,1])):\n",
        "    return 'f'\n",
        "\n",
        "def HexToBinLilEndian(char):\n",
        "  if char == '0':\n",
        "    return np.array([0,0,0,0])\n",
        "  elif char == '1':\n",
        "    return np.array([1,0,0,0])\n",
        "  elif char == '2':\n",
        "    return np.array([0,1,0,0])\n",
        "  elif char == '3':\n",
        "    return np.array([1,1,0,0])\n",
        "  elif char == '4':\n",
        "    return np.array([0,0,1,0])\n",
        "  elif char == '5':\n",
        "    return np.array([1,0,1,0])\n",
        "  elif char == '6':\n",
        "    return np.array([0,1,1,0])\n",
        "  elif char == '7':\n",
        "    return np.array([1,1,1,0])\n",
        "  elif char == '8':\n",
        "    return np.array([0,0,0,1])\n",
        "  elif char == '9':\n",
        "    return np.array([1,0,0,1])\n",
        "  elif char == 'a':\n",
        "    return np.array([0,1,0,1])\n",
        "  elif char == 'b':\n",
        "    return np.array([1,1,0,1])\n",
        "  elif char == 'c':\n",
        "    return np.array([0,0,1,1])\n",
        "  elif char == 'd':\n",
        "    return np.array([1,0,1,1])\n",
        "  elif char == 'e':\n",
        "    return np.array([0,1,1,1])\n",
        "  elif char == 'f':\n",
        "    return np.array([1,1,1,1])"
      ],
      "metadata": {
        "id": "syb2NSqHaX1d"
      },
      "execution_count": null,
      "outputs": []
    },
    {
      "cell_type": "markdown",
      "source": [
        "Hashing to a Ball"
      ],
      "metadata": {
        "id": "NZHxviTBd4Os"
      }
    },
    {
      "cell_type": "code",
      "source": [
        "def Packw1(w1):\n",
        "  bits = \"\"\n",
        "  nbbytes = k*128\n",
        "  flat = w1.flatten()\n",
        "  L = np.zeros(k*256*4, dtype=int) #6144 bits\n",
        "  hexstr = \"\"\n",
        "  for x in range(0,k*256):\n",
        "    tmp = list(f'{flat[x]:0{4}b}')\n",
        "    tmp2 = list(map(int, tmp))\n",
        "    tmp3 = np.array(tmp2)\n",
        "    tmp = BinToHex(np.flip(tmp3))\n",
        "    hexstr = hexstr + tmp\n",
        "\n",
        "  return bytes.fromhex(hexstr)\n",
        "\n",
        "def Packt1(t1):\n",
        "  bits = \"\"\n",
        "  nbbytes = k*320\n",
        "  flat = t1.flatten()\n",
        "  L = np.zeros(k*256*10, dtype=int) #15360 bits\n",
        "  for x in range(0,k*256*10,10):\n",
        "    tmp = list(f'{flat[x//10]:0{10}b}')\n",
        "    tmp2 = list(map(int, tmp))\n",
        "    tmp3 = np.array(tmp2)\n",
        "    L[x:x+10] = np.flip(tmp3)\n",
        "\n",
        "  hexstr = \"\"\n",
        "  for i in range (nbbytes*2):\n",
        "    tmp = BinToHex(L[4*i:4*i+4])\n",
        "    hexstr = hexstr + tmp\n",
        "\n",
        "  return bytes.fromhex(hexstr)\n",
        "\n",
        "def H(M1,M2):\n",
        "  gfg = hl.shake_256()\n",
        "  gfg.update(M1)\n",
        "  gfg.update(M2)\n",
        "  chat = gfg.digest(32)\n",
        "  return chat\n",
        "\n",
        "def H2(M1,M2):\n",
        "  gfg = hl.shake_256()\n",
        "  gfg.update(M1)\n",
        "  gfg.update(M2)\n",
        "  chat = gfg.digest(64)\n",
        "  return chat\n",
        "\n",
        "def SampleInBall(seed, tau=tau):\n",
        "  c = np.zeros(256, dtype=int)\n",
        "  gfg = hl.shake_256()\n",
        "  gfg.update(seed)\n",
        "  chat = gfg.digest(tau+8)\n",
        "  x = np.frombuffer(chat, dtype=np.uint8)\n",
        "  intrej = x[8:]\n",
        "  si = np.unpackbits(x[:8]).reshape(64)[:tau]\n",
        "  for i in range (256-tau,256,1):\n",
        "    j = intrej[i-256+tau]\n",
        "    while j > i:\n",
        "      jbyte = (int(j)).to_bytes(2, byteorder='big')\n",
        "      gfg.update(jbyte)\n",
        "      hah = gfg.digest(1)\n",
        "      j = np.frombuffer(hah, dtype=np.uint8)[0]\n",
        "    c[i] = c[j]\n",
        "    c[j] = (-1)**si[i-256+tau]\n",
        "  return c\n",
        "\n"
      ],
      "metadata": {
        "id": "FktP0JOhd5sQ"
      },
      "execution_count": null,
      "outputs": []
    },
    {
      "cell_type": "markdown",
      "source": [
        "#GENERATION"
      ],
      "metadata": {
        "id": "fxEr6OdM6hNU"
      }
    },
    {
      "cell_type": "markdown",
      "source": [
        "Génération de la matrice A\n",
        "\n",
        "---\n",
        "\n"
      ],
      "metadata": {
        "id": "18iEnHW5Peb7"
      }
    },
    {
      "cell_type": "code",
      "source": [
        "def GenererMatRqn(k1, k2, q, n):\n",
        "  return npr.randint(0, q, (k1, k2, n))\n",
        "\n",
        "def genAEasy(k=k,l=l,q=q,n=n):\n",
        "  return GenererMatRqn(k,l,q,n)\n",
        "\n",
        "def BitsToInt(bits):\n",
        "  out = 0\n",
        "  for bit in bits:\n",
        "      out = (out << 1) | bit\n",
        "  return out\n",
        "\n",
        "def MapSeedPolyRq(seed,i,j,q=q,n=n):\n",
        "  P = np.zeros(n, dtype=int)\n",
        "  gfg = hl.shake_128()\n",
        "  gfg.update(seed)\n",
        "  gfg.update((int(256*i+j)).to_bytes(2, byteorder='little'))\n",
        "  stream = gfg.hexdigest(3*n)\n",
        "  for k in range (n):\n",
        "    bits_Pk = np.zeros(24, dtype=int)\n",
        "    substream = stream[6*k:6*k+6]\n",
        "    for h in range (6) :\n",
        "      bits_Pk[4*h:4*h+4] = HexToBinLilEndian(substream[h])\n",
        "    bits_Pk[23] = 0\n",
        "    P[k] = BitsToInt(np.flip(bits_Pk))\n",
        "    while(P[k] > q - 1):\n",
        "      gfg.update(int(P[k]+k).to_bytes(3, byteorder='little'))\n",
        "      out = gfg.hexdigest(3)\n",
        "      for h in range (6) :\n",
        "        bits_Pk[4*h:4*h+4] = HexToBinLilEndian(out[h])\n",
        "      bits_Pk[23] = 0\n",
        "      P[k] = BitsToInt(np.flip(bits_Pk))\n",
        "  return P\n",
        "\n",
        "def ExpandA(seed, q=q,n=n,k=k,l=l):\n",
        "  A = np.zeros((k,l,n), dtype=int)\n",
        "  for i in range (k):\n",
        "    for j in range (l):\n",
        "      A[i,j] = MapSeedPolyRq(seed,i,j,q,n)\n",
        "  return A\n",
        "\n",
        "seed = npr.randint(0, 2, (n))\n",
        "A = ExpandA(seed)\n",
        "for i in A.flatten():\n",
        "  if(i>=q) :\n",
        "    print(\"non\")\n"
      ],
      "metadata": {
        "id": "Pe_Tp_lnSbMj"
      },
      "execution_count": null,
      "outputs": []
    },
    {
      "cell_type": "markdown",
      "source": [
        "Génération de clés secrètes\n",
        "\n",
        "---\n",
        "\n"
      ],
      "metadata": {
        "id": "BLfeOzH1Sby4"
      }
    },
    {
      "cell_type": "code",
      "execution_count": null,
      "metadata": {
        "id": "mr6ofGjd_Lsx",
        "colab": {
          "base_uri": "https://localhost:8080/"
        },
        "outputId": "71333b8e-aadd-4068-a963-93815999f05e"
      },
      "outputs": [
        {
          "output_type": "stream",
          "name": "stdout",
          "text": [
            "[[ 0  4  4 ... -4 -3  4]\n",
            " [-1  3 -4 ...  1  1  3]\n",
            " [-4 -4  2 ...  1 -2 -1]\n",
            " [ 0  0 -1 ... -4  0  1]\n",
            " [-4  2  3 ...  2  0 -3]]\n",
            "[[ 0  4  1 ... -3  2  2]\n",
            " [-2  2 -2 ...  1  3 -1]\n",
            " [ 2 -2  0 ... -2 -2  0]\n",
            " [-2 -3  1 ... -1  3  0]\n",
            " [ 0 -3  3 ...  4 -1  1]\n",
            " [ 0 -4  2 ...  1  2  3]]\n"
          ]
        }
      ],
      "source": [
        "#Genere un polynome de Rq\n",
        "def GenererRqn(q=q, n=n):\n",
        "  return npr.randint(0, q, (n))\n",
        "\n",
        "#Genere un polynome de Sn\n",
        "def GenererSn(q=q,n=n,eta=eta):\n",
        "  P = GenererRqn(eta,n)\n",
        "  return P\n",
        "\n",
        "#Generer une clé secrète de taille k\n",
        "def genKey(k,n=n,q=q,eta=eta):\n",
        "  s = np.zeros((k,n),dtype=int)\n",
        "  for i in range (k):\n",
        "    s[i] = GenererSn(q,n,eta)\n",
        "  return s\n",
        "\n",
        "\n",
        "def ExpandS(seed) :\n",
        "  S = np.zeros((l+k,n),dtype=int)\n",
        "  for i in range (l+k):\n",
        "    gfg = hl.shake_256()\n",
        "    gfg.update(seed)\n",
        "    gfg.update((int(i)).to_bytes(2, byteorder='little'))\n",
        "    nbbits = n*4\n",
        "    stream = gfg.hexdigest(nbbits//8) #256 hex values\n",
        "    for j in range (0,n):\n",
        "      bits = np.zeros(4,dtype=int)\n",
        "      bits = HexToBinLilEndian(stream[j])\n",
        "      S[i][j] = BitsToInt(np.flip(bits))\n",
        "      while(S[i][j] > 2*eta):\n",
        "        gfg.update(int(S[i][j]).to_bytes(1, byteorder='little'))\n",
        "        stream2 = gfg.hexdigest(1)#2 hex values\n",
        "        bits = HexToBinLilEndian(stream2[0])\n",
        "        S[i][j] = BitsToInt(np.flip(bits))\n",
        "  S = eta - S\n",
        "  s1 = S[:l]\n",
        "  s2 = S[l:]\n",
        "  return s1,s2\n",
        "\n",
        "seed = npr.randint(0, 2, (n))\n",
        "s1,s2 = ExpandS(seed)\n",
        "print(s1)\n",
        "print(s2)"
      ]
    },
    {
      "cell_type": "markdown",
      "source": [
        "Calcule de t : produit matrice vecteur"
      ],
      "metadata": {
        "id": "2LEn6QA0fH9j"
      }
    },
    {
      "cell_type": "code",
      "source": [
        "def ProdPoly(P,Q,n=n,q=q):\n",
        "  pp = np.zeros_like(P)\n",
        "  for i in range (P.size):\n",
        "    for j in range (P.size):\n",
        "      pp[(i+j)%n] += (P[i]*Q[j])%q\n",
        "  return pp % q\n",
        "\n",
        "def dotRq(r, s, q=q):\n",
        "  n = r.shape[1]\n",
        "  somme =  np.zeros(n)\n",
        "  for i in range(r.shape[0]):\n",
        "    somme = somme + ProdPoly(r[i],s[i], n, q)\n",
        "  return somme % q\n",
        "\n",
        "def prodRqMatVec(A, s, q=q):\n",
        "  As = np.zeros((A.shape[0], s.shape[1]),dtype=int)\n",
        "  n = A.shape[len(A.shape)-1]\n",
        "  for i in range(A.shape[0]):\n",
        "    As[i, :] = dotRq(A[i,:,:], s, q)\n",
        "  return As"
      ],
      "metadata": {
        "id": "7ZoYTqB0fMhC"
      },
      "execution_count": null,
      "outputs": []
    },
    {
      "cell_type": "markdown",
      "source": [
        "Génération pk et sk"
      ],
      "metadata": {
        "id": "KxyG3YJrfjjQ"
      }
    },
    {
      "cell_type": "code",
      "source": [
        "def keygen():\n",
        "  seed = npr.randint(0, 2, (n))\n",
        "  gfg = hl.shake_256()\n",
        "  gfg.update(seed)\n",
        "  ultraseed = gfg.digest(128)\n",
        "  seedA = ultraseed[:32]\n",
        "  seedS = ultraseed[32:96]\n",
        "  K = ultraseed[96:]\n",
        "  A = ExpandA(seedA,q,n,k,l)\n",
        "  s1,s2 = ExpandS(seedS)\n",
        "  t=(prodRqMatVec(A,s1)+s2)%q\n",
        "  t0 = np.zeros_like(t,dtype=int)\n",
        "  t1 = np.zeros_like(t,dtype=int)\n",
        "  for i in range (k) :\n",
        "    for j in range (n) :\n",
        "      (t1[i,j], t0[i,j]) = Power2Round(t[i,j],d,q)\n",
        "  tr = H(seedA, Packt1(t1))\n",
        "\n",
        "  return seedA,s1,s2,t1,t0,tr,K\n"
      ],
      "metadata": {
        "id": "0JXUiZTlfmYw"
      },
      "execution_count": null,
      "outputs": []
    },
    {
      "cell_type": "markdown",
      "source": [
        "#SIGNATURE"
      ],
      "metadata": {
        "id": "U5p9vKb96f55"
      }
    },
    {
      "cell_type": "markdown",
      "source": [
        "Calcul produit polynome x vecteur Rq"
      ],
      "metadata": {
        "id": "OpVVDDz4OlnW"
      }
    },
    {
      "cell_type": "code",
      "source": [
        "def ProdPolyVec(poly,vec):\n",
        "  (l,n) = vec.shape\n",
        "  prod = np.zeros((l, n),dtype=int)\n",
        "  for i in range (l):\n",
        "    prod[i] = ProdPoly(poly,vec[i])\n",
        "  return prod\n",
        "\n",
        "\n",
        "def ExpandMask(rhoprime, k):\n",
        "  y = np.zeros((l,n),dtype=int)\n",
        "  gfg = hl.shake_256()\n",
        "  for i in range (l) :\n",
        "    gfg.update(rhoprime)\n",
        "    gfg.update((int(k+i)).to_bytes(2, byteorder='little'))\n",
        "    nbbits = 20*n #5120 bit pour un polynome\n",
        "    stream = gfg.hexdigest( nbbits//8 ) #1280 valeurs hexa\n",
        "    bits = np.zeros(nbbits, dtype=int)\n",
        "    for k in range (0,len(stream)):\n",
        "      bits[4*k:4*k+4] = HexToBinLilEndian(stream[k])\n",
        "\n",
        "    for j in range (n):\n",
        "      y[i,j] = gamma1-BitsToInt(np.flip(bits[20*j:20*j+20]))\n",
        "  return y\n",
        "\n",
        "def randbytes(n):\n",
        "    for _ in range(n):\n",
        "        yield random.getrandbits(8)\n",
        "\n",
        "\n",
        "te = npr.randint(0, 2, 512)\n",
        "test = ExpandMask(te, 0)\n",
        "\n",
        "print(test)"
      ],
      "metadata": {
        "id": "-a2pmy_UOrfH",
        "colab": {
          "base_uri": "https://localhost:8080/"
        },
        "outputId": "af40d19f-f31d-4754-9487-69a0dbaa7885"
      },
      "execution_count": null,
      "outputs": [
        {
          "output_type": "stream",
          "name": "stdout",
          "text": [
            "[[  91095  159854  209813 ...  418321    4565  262214]\n",
            " [ 448938 -322388 -132063 ... -256421   68160 -336974]\n",
            " [ 144943  224251  269560 ...  388272 -287258 -126633]\n",
            " [  76329  119584 -129855 ...   77063  350780   46688]\n",
            " [ 370351 -500396 -231546 ...  326457 -178274 -479808]]\n"
          ]
        }
      ]
    },
    {
      "cell_type": "markdown",
      "source": [
        "Signature"
      ],
      "metadata": {
        "id": "xyEStcb0Or4B"
      }
    },
    {
      "cell_type": "code",
      "source": [
        "def Sign(seedA,K,tr,s1,s2,t0,M):\n",
        "  print(\"___________________\")\n",
        "  (l,n) = s1.shape\n",
        "\n",
        "  A = ExpandA(seedA,q,n,k,l)\n",
        "\n",
        "  mu = H2(tr,M)\n",
        "  nn = 0\n",
        "  boole = 0\n",
        "  h = np.zeros((k,n),dtype=int)\n",
        "  z = np.zeros((l,n),dtype=int)\n",
        "  rhoprime = H(K,mu)\n",
        "  while(boole == 0) :\n",
        "    y = ExpandMask(rhoprime, nn)\n",
        "    w = prodRqMatVec(A,y)\n",
        "    w1 = np.zeros_like(w,dtype=int)\n",
        "    for i in range(w1.shape[0]):\n",
        "      for j in range(w1.shape[1]):\n",
        "        w1[i,j] = HighBits(w[i,j],2*gamma2)\n",
        "\n",
        "    seedc = H(mu,Packw1(w1))\n",
        "    c = SampleInBall(seedc)\n",
        "\n",
        "    cs1 = ProdPolyVec(c,s1)\n",
        "    z = (y + cs1)\n",
        "\n",
        "    cs2 = ProdPolyVec(c,s2)\n",
        "    wcs2 = (w-cs2)%q\n",
        "\n",
        "    r0 = np.zeros_like(wcs2,dtype=int)\n",
        "    for i in range(r0.shape[0]):\n",
        "      for j in range(r0.shape[1]):\n",
        "        r0[i][j] = LowBits(wcs2[i][j],2*gamma2)\n",
        "\n",
        "    boole = 1\n",
        "    if(NormeInfVecRq(z) >= gamma1-beta or NormeInfVecRq(r0) >= gamma2-beta) :\n",
        "      print(str(nn//l)+\" : z \" + str(NormeInfVecRq(z)-gamma1+beta) +\" | r0 \"+ str(NormeInfVecRq(r0)-gamma2+beta))\n",
        "      boole = 0\n",
        "    else:\n",
        "      ct0 = ProdPolyVec(c,t0)\n",
        "      wcs2cto = (w-cs2+ct0)%q\n",
        "      for i in range (k):\n",
        "        for j in range (n):\n",
        "          h[i,j] = MakeHint(wcs2[i,j],wcs2cto[i,j],2*gamma2)\n",
        "      if(NormeInfVecRq(ct0) >= gamma2 or np.count_nonzero(h) > omega) :\n",
        "        print(str(nn//l)+\" : z \" + str(NormeInfVecRq(z)-gamma1+beta) +\" | r0 \"+ str(NormeInfVecRq(r0)-gamma2+beta)+\" | ct0 \"+str(NormeInfVecRq(ct0)-gamma2)+\" | h \"+str(np.count_nonzero(h)-omega))\n",
        "        boole = 0\n",
        "    nn = nn + l\n",
        "  print(w1)\n",
        "  print(mu)\n",
        "  print(y)\n",
        "  print(z)\n",
        "  print(nn//l)\n",
        "  return z,seedc,h,w1\n",
        "\n",
        "\n",
        "M =  bytearray(randbytes(1000000))\n",
        "M2 = bytearray(randbytes(1000000))\n",
        "(seedA,s1,s2,t1,t0,tr,K) = keygen()\n",
        "\n",
        "(z,seedc,h,w1) = Sign(seedA,K,tr,s1,s2,t0,M)\n",
        "(z2,seedc2,h2,w3) = Sign(seedA,K,tr,s1,s2,t0,M2)\n"
      ],
      "metadata": {
        "colab": {
          "base_uri": "https://localhost:8080/"
        },
        "id": "OYUCeUhM6nPA",
        "outputId": "c4662fb7-bf68-4695-86b2-77b04a1a8930"
      },
      "execution_count": null,
      "outputs": [
        {
          "output_type": "stream",
          "name": "stdout",
          "text": [
            "___________________\n",
            "0 : z 1 | r0 141\n",
            "1 : z -64 | r0 174\n",
            "2 : z -923 | r0 182\n",
            "3 : z 50 | r0 42\n",
            "4 : z 8 | r0 97\n",
            "5 : z 139 | r0 83\n",
            "6 : z 21 | r0 -340\n",
            "7 : z 139 | r0 -187\n",
            "[[13  9  2 ...  9  7  7]\n",
            " [10  5 15 ...  8 11  5]\n",
            " [11  6  9 ...  5 14 15]\n",
            " [ 8 12 10 ... 10  9  7]\n",
            " [11  5 12 ...  6 13 12]\n",
            " [ 2 10  4 ...  8  9 15]]\n",
            "b\"\\xc5\\x7f`\\x08Gn\\x1d\\x87\\x91\\xd5ey\\xff\\x88\\xe0\\x9aC?\\x88\\xd4\\xd6S\\x9c\\x0f[\\xa0\\xa1\\t4\\xfav\\x15+\\xa0/\\xb2\\xef\\x83~\\x07k\\x8f\\xb3\\xe2\\xe1\\xcc\\xadE\\x02d\\xb2o\\x97\\xe5n\\xab\\x1b\\x8db\\t'~\\x02+\"\n",
            "[[ 365933  151300   -9978 ...  330942  437893 -120424]\n",
            " [  21937  -24980  236659 ...  138848  302344  -22202]\n",
            " [ 489423 -476386 -292471 ...  508518  105335  -49269]\n",
            " [-414404 -291145 -433211 ...  163456  131640  172439]\n",
            " [ 364173  172343  163848 ...  285247  172192  294058]]\n",
            "[[ 365942 8531697   -9976 ... 8711352  437893 8259979]\n",
            " [  21954  -24976  236670 ... 8519256  302353  -22171]\n",
            " [8869835 -476376 8087944 ...  508520 8485750  -49227]\n",
            " [7965969 -291122 7947200 ... 8543870  131648 8552855]\n",
            " [ 364173 8552741 8544263 ... 8665617 8552604 8674469]]\n",
            "9\n",
            "___________________\n",
            "0 : z -65 | r0 186\n",
            "1 : z 95 | r0 -22\n",
            "2 : z 180 | r0 184\n",
            "[[ 7  7 12 ...  5  5 13]\n",
            " [ 9  3  3 ...  8 15  0]\n",
            " [ 0  7  0 ...  5 15  8]\n",
            " [ 6  4  5 ...  9 14  2]\n",
            " [ 6 15 14 ...  0 11  4]\n",
            " [ 1  2  2 ... 13  6  0]]\n",
            "b'\\xdf\\xb1\"u\\xe9\\xc7YU\\xa6*\\xfb\\xd4\\xa5\\xdci\\xd1\\xe5\\xcd\\xc8\\x12p\\xf0M\\x95\\x91\\x1e;\\x9b\\xe0\\xdd\\xf3\\r\\xc4\\xaa\\x08V\\xd0\\x03\\x06}\\x97\\x16\\xa0\\x0c\\xfc\\xfe\\x9a\\xf7\\x1f$\\x10!\\xdb\\xa4\\x9cf\\xc7\\x98C\\xdc\\xa3\\xcddF'\n",
            "[[ 197607  374270 -425499 ...  238046  393210  480813]\n",
            " [-229128 -205183  296582 ...   -9637 -154430  426490]\n",
            " [   2111 -202920  460464 ... -461770 -386433 -422120]\n",
            " [-182101  275526 -133202 ...  251268  276816 -400925]\n",
            " [-471351   70828 -236008 ...   45880  288920 -492329]]\n",
            "[[ 197611 8754685 7954911 ... 8618450 8773609  480838]\n",
            " [8151281 -205165 8676983 ... 8370778 -154426  426491]\n",
            " [   2144 8177492 8840877 ... 7918624 -386432 7958260]\n",
            " [-182100  275533 8247210 ...  251294 8657229 7979471]\n",
            " [-471318   70844 8144403 ... 8426293  288928 7888077]]\n",
            "4\n"
          ]
        }
      ]
    },
    {
      "cell_type": "markdown",
      "source": [
        "#VERIFICATION\n"
      ],
      "metadata": {
        "id": "9w6J3VUg6njZ"
      }
    },
    {
      "cell_type": "code",
      "source": [
        "def Verify(seedA,M,z,seedc,t1,h):\n",
        "  A = ExpandA(seedA,q,n,k,l)\n",
        "  mu = H2( H(seedA, Packt1(t1)) , M )\n",
        "  c = SampleInBall(seedc)\n",
        "  Az = prodRqMatVec(A,z)\n",
        "  c2d = c*(2**d)\n",
        "  ct1 = ProdPolyVec(c2d,t1)\n",
        "  Azct12d = (Az-ct1)%q\n",
        "  w2 = np.zeros_like(h,dtype=int)\n",
        "\n",
        "  for i in range(w2.shape[0]):\n",
        "    for j in range(w2.shape[1]):\n",
        "      w2[i][j] = UseHint(h[i][j],(Azct12d)[i][j],2*gamma2)\n",
        "\n",
        "\n",
        "  if (NormeInfVecRq(z) >= gamma1 - beta) :\n",
        "    print(\"1 non\")\n",
        "  if (seedc != H(mu, Packw1(w2))) :\n",
        "    print(\"2 non\")\n",
        "  if (np.count_nonzero(h) > omega) :\n",
        "    print(\"3 non\")\n",
        "  return (NormeInfVecRq(z) < gamma1 - beta) and (seedc == H(mu, Packw1(w2))) and (np.count_nonzero(h) <= omega)\n",
        "\n",
        "\n",
        "\n",
        "print(Verify(seedA,M,z,seedc,t1,h))\n",
        "print(Verify(seedA,M2,z,seedc,t1,h2))\n",
        "print(Verify(seedA,M2,z2,seedc2,t1,h2))\n"
      ],
      "metadata": {
        "colab": {
          "base_uri": "https://localhost:8080/"
        },
        "id": "--hoK-az6rMX",
        "outputId": "93ee7d95-8aca-4ca4-efc0-1e73fc4f654e"
      },
      "execution_count": null,
      "outputs": [
        {
          "output_type": "stream",
          "name": "stdout",
          "text": [
            "True\n",
            "2 non\n",
            "False\n",
            "True\n"
          ]
        }
      ]
    }
  ]
}